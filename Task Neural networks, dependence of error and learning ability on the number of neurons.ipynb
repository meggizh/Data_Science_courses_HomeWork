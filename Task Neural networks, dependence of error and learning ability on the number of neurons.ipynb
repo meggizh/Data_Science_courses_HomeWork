{
 "cells": [
  {
   "cell_type": "markdown",
   "metadata": {},
   "source": [
    "## Neural networks: dependence of error and learning ability on the number of neurons"
   ]
  },
  {
   "cell_type": "markdown",
   "metadata": {},
   "source": [
    "   In this activity, we will set up a two-layer neural network to solve a multi-class classification problem. It is proposed to perform the procedures of loading and splitting the input data, training the network, calculating the classification error and determination of the optimal number of neurons in the hidden layer of the network. \n",
    "    It is necessary to choose the number of neurons in such a way that, on the one hand, the model is simple, and on the other hand, it gives a fairly accurate forecast and does not retrain. \n",
    "    The purpose of the task is to show how the accuracy and learning ability of the network depend on its complexity."
   ]
  },
  {
   "cell_type": "markdown",
   "metadata": {},
   "source": [
    "To solve the problem of multiclass classification, it is proposed to use the library for building neural networks [pybrain](http://pybrain.org/). "
   ]
  },
  {
   "cell_type": "code",
   "execution_count": 8,
   "metadata": {},
   "outputs": [
    {
     "name": "stdout",
     "output_type": "stream",
     "text": [
      "Requirement already satisfied: pybrain in c:\\python\\lib\\site-packages (0.3.1)\n",
      "Requirement already satisfied: scipy in c:\\python\\lib\\site-packages (from pybrain) (1.7.1)\n",
      "Requirement already satisfied: numpy<1.23.0,>=1.16.5 in c:\\python\\lib\\site-packages (from scipy->pybrain) (1.20.3)\n",
      "Note: you may need to restart the kernel to use updated packages.\n"
     ]
    }
   ],
   "source": [
    "#pip install pybrain"
   ]
  },
  {
   "cell_type": "markdown",
   "metadata": {},
   "source": [
    "###  Dataset description\n",
    "\n",
    "The problem of assessing the quality of wine by its physical and chemical properties is considered. [1]. This data is [open source](https://archive.ics.uci.edu/ml/machine-learning-databases/wine-quality/winequality-red.csv) in the UCI repository and contain 1599 samples of red wine, described by 11 features, including acidity, percentage of sugar, alcohol, etc. In addition, each object is assigned a quality rating on a scale from 0 to 10. It is required to restore the wine quality rating according to the original description.\n",
    "\n",
    "[1] P. Cortez, A. Cerdeira, F. Almeida, T. Matos and J. Reis. Modeling wine preferences by data mining from physicochemical properties.  In Decision Support Systems, Elsevier, 47(4):547-553, 2009. "
   ]
  },
  {
   "cell_type": "code",
   "execution_count": 1,
   "metadata": {},
   "outputs": [],
   "source": [
    "%matplotlib inline\n",
    "\n",
    "import random\n",
    "import matplotlib.pyplot as plt\n",
    "from sklearn.preprocessing import normalize\n",
    "import numpy as np"
   ]
  },
  {
   "cell_type": "markdown",
   "metadata": {},
   "source": [
    "Выполним загрузку данных"
   ]
  },
  {
   "cell_type": "code",
   "execution_count": 2,
   "metadata": {},
   "outputs": [],
   "source": [
    "with open('winequality-red.csv') as f:\n",
    "    f.readline()  # пропуск заголовочной строки\n",
    "    data = np.loadtxt(f, delimiter=';')"
   ]
  },
  {
   "cell_type": "code",
   "execution_count": 3,
   "metadata": {},
   "outputs": [
    {
     "data": {
      "text/plain": [
       "array([[ 7.4  ,  0.7  ,  0.   , ...,  0.56 ,  9.4  ,  5.   ],\n",
       "       [ 7.8  ,  0.88 ,  0.   , ...,  0.68 ,  9.8  ,  5.   ],\n",
       "       [ 7.8  ,  0.76 ,  0.04 , ...,  0.65 ,  9.8  ,  5.   ],\n",
       "       ...,\n",
       "       [ 6.3  ,  0.51 ,  0.13 , ...,  0.75 , 11.   ,  6.   ],\n",
       "       [ 5.9  ,  0.645,  0.12 , ...,  0.71 , 10.2  ,  5.   ],\n",
       "       [ 6.   ,  0.31 ,  0.47 , ...,  0.66 , 11.   ,  6.   ]])"
      ]
     },
     "execution_count": 3,
     "metadata": {},
     "output_type": "execute_result"
    }
   ],
   "source": [
    "data"
   ]
  },
  {
   "cell_type": "markdown",
   "metadata": {},
   "source": [
    "Alternatively, we can download data directly from the UCI repository using the urllib library."
   ]
  },
  {
   "cell_type": "code",
   "execution_count": 4,
   "metadata": {},
   "outputs": [],
   "source": [
    "#import urllib\n",
    "# URL for the Wine Quality Data Set (UCI Machine Learning Repository)\n",
    "#url = \"https://archive.ics.uci.edu/ml/machine-learning-databases/wine-quality/winequality-red.csv\"\n",
    "# загрузка файла\n",
    "#f = urllib.urlopen(url)\n",
    "#f.readline()  # пропуск заголовочной строки\n",
    "#data = np.loadtxt(f, delimiter=';')"
   ]
  },
  {
   "cell_type": "markdown",
   "metadata": {},
   "source": [
    "Let's extract the target variable from the data. The classes in the data are unbalanced: the main share of objects is given a quality score from 5 to 7. Let's reduce the problem to a three-class one: we will give a score of 5 to objects with a quality score of less than five, and a score of 7 to objects with a quality score of more than seven."
   ]
  },
  {
   "cell_type": "code",
   "execution_count": 5,
   "metadata": {},
   "outputs": [],
   "source": [
    "TRAIN_SIZE = 0.7 # Splitting the data in train and test 70/30%\n",
    "\n",
    "#from sklearn.cross_validation import train_test_split\n",
    "from sklearn.model_selection import train_test_split\n",
    "\n",
    "y = data[:, -1]\n",
    "np.place(y, y < 5, 5)\n",
    "np.place(y, y > 7, 7)\n",
    "y -= min(y)\n",
    "X = data[:, :-1]\n",
    "X = normalize(X)\n",
    "\n",
    "X_train, X_test, y_train, y_test = train_test_split(X, y, train_size=TRAIN_SIZE, random_state=0)"
   ]
  },
  {
   "cell_type": "markdown",
   "metadata": {},
   "source": [
    "### Two-layer neural network\n",
    "\n",
    "A two-layer neural network is a recognition function that can be written as the following superposition:\n",
    "\n",
    "$f(x,W)=h^{(2)}\\left(\\sum\\limits_{i=1}^D w_i^{(2)}h^{(1)}\\left(\\sum\\limits_{j=1}^n w_{ji}^{(1)}x_j+b_i^{(1)}\\right)+b^{(2)}\\right)$, где\n",
    "\n",
    "$x$ -- original object (wine variety described by 11 attributes), $x_j$ -- corresponding feature,\n",
    "\n",
    "$n$ --  the number of neurons in the input layer of the network, coinciding with the number of features,\n",
    "\n",
    "$D$ --  the number of neurons in the hidden layer of the network,\n",
    "\n",
    "$w_i^{(2)}, w_{ji}^{(1)}, b_i^{(1)}, b^{(2)}$ --  network parameters corresponding to the weights of neurons,\n",
    "\n",
    "$h^{(1)}, h^{(2)}$ -- activation functions.\n",
    "\n",
    "A linear function is used as an activation function on the hidden layer of the network. At the output layer of the network, the softmax activation function is used, which is a generalization of the sigmoid function for the multiclass case:\n",
    "\n",
    "$y_k=\\text{softmax}_k(a_1,...,a_k)=\\frac{\\exp(a_k)}{\\sum_{k=1}^K\\exp(a_k)}.$\n",
    "\n"
   ]
  },
  {
   "cell_type": "markdown",
   "metadata": {},
   "source": [
    "### Configuring network settings\n",
    "\n",
    "Optimal network settings $W_{opt}$ are determined by minimizing the error function:\n",
    "\n",
    "$W_{opt}=\\arg\\min\\limits_{W}L(W)+\\lambda\\|W\\|^2$.\n",
    "\n",
    "Here $L(W)$ is a function of the multiclass classification error,\n",
    "\n",
    "$L(W)=- \\sum^N_{n=1}\\sum^K_{k=1} t_{kn} log(y_{kn}),$\n",
    "\n",
    "$t_{kn}$ -- binary encoded class labels, $K$ -- number of labels, $N$ -- number of objects,\n",
    "\n",
    "а $\\lambda\\|W\\|^2$ is a regularizing term that controls the total weight of the network parameters and prevents the overfitting effect.\n",
    "\n",
    "Parameter optimization is performed using the backpropagation method."
   ]
  },
  {
   "cell_type": "markdown",
   "metadata": {},
   "source": [
    "Let's load the main modules: ClassificationDataSet - pybrain data structure, buildNetwork - neural network initialization, BackpropTrainer - optimization of network parameters using the backpropagation method, SoftmaxLayer - softmax function corresponding to the output layer of the network, percentError - function for calculating the classification error (percentage of incorrect answers )."
   ]
  },
  {
   "cell_type": "code",
   "execution_count": 6,
   "metadata": {},
   "outputs": [],
   "source": [
    "from pybrain.datasets import ClassificationDataSet # Структура данных pybrain\n",
    "from pybrain.tools.shortcuts import buildNetwork\n",
    "from pybrain.supervised.trainers import BackpropTrainer\n",
    "from pybrain.structure.modules import SoftmaxLayer\n",
    "from pybrain.utilities import percentError"
   ]
  },
  {
   "cell_type": "markdown",
   "metadata": {},
   "source": [
    "We initialize the main parameters of the task: HIDDEN_NEURONS_NUM -- the number of neurons in the hidden layer, MAX_EPOCHS -- the maximum number of iterations of the optimization algorithm"
   ]
  },
  {
   "cell_type": "code",
   "execution_count": 7,
   "metadata": {},
   "outputs": [],
   "source": [
    "HIDDEN_NEURONS_NUM = 100\n",
    "MAX_EPOCHS = 100"
   ]
  },
  {
   "cell_type": "markdown",
   "metadata": {},
   "source": [
    "We initialize the ClassificationDataSet data structure used by the pybrain library. For initialization, the structure takes two arguments: the number of features *np.shape(X)[1]* and the number of different class labels *len(np.unique(y))*.\n",
    "\n",
    "In addition, we will binarize the target variable using the *_convertToOneOfMany( )* function and split the data into training and test parts."
   ]
  },
  {
   "cell_type": "code",
   "execution_count": 8,
   "metadata": {},
   "outputs": [],
   "source": [
    "# ClassificationDataSet\n",
    "# Train\n",
    "ds_train = ClassificationDataSet(np.shape(X)[1], nb_classes=len(np.unique(y_train)))\n",
    "\n",
    "ds_train.setField('input', X_train) \n",
    "ds_train.setField('target', y_train[:, np.newaxis]) \n",
    "ds_train._convertToOneOfMany( ) \n",
    "# Test\n",
    "ds_test = ClassificationDataSet(np.shape(X)[1], nb_classes=len(np.unique(y_train)))\n",
    "ds_test.setField('input', X_test)\n",
    "ds_test.setField('target', y_test[:, np.newaxis])\n",
    "ds_test._convertToOneOfMany( )"
   ]
  },
  {
   "cell_type": "markdown",
   "metadata": {},
   "source": [
    "We initialize a two-layer network and optimize its parameters. Arguments for initialization are:\n",
    "\n",
    "ds.indim -- the number of neurons in the input layer of the network, the same as the number of features (in our case 11),\n",
    "\n",
    "HIDDEN_NEURONS_NUM -- number of neurons in the hidden layer of the network,\n",
    "\n",
    "ds.outdim -- the number of neurons in the output layer of the network, the same as the number of different class labels (in our case 3),\n",
    "\n",
    "SoftmaxLayer is the softmax function used on the output layer to solve the multiclass classification problem."
   ]
  },
  {
   "cell_type": "code",
   "execution_count": 9,
   "metadata": {
    "scrolled": true
   },
   "outputs": [],
   "source": [
    "np.random.seed(0) # Fix seed \n",
    "\n",
    "#  (Feedforward network)\n",
    "net = buildNetwork(ds_train.indim, HIDDEN_NEURONS_NUM, ds_train.outdim, outclass=SoftmaxLayer)\n",
    "\n",
    "\n",
    "init_params = np.random.random((len(net.params))) \n",
    "net._setParameters(init_params)"
   ]
  },
  {
   "cell_type": "markdown",
   "metadata": {},
   "source": [
    " Let's optimize the network parameters. The graph below shows the convergence of the error function on the training/control part."
   ]
  },
  {
   "cell_type": "code",
   "execution_count": 10,
   "metadata": {},
   "outputs": [
    {
     "data": {
      "image/png": "[encoded data removed]",
      "text/plain": [
       "<Figure size 432x288 with 1 Axes>"
      ]
     },
     "metadata": {
      "needs_background": "light"
     },
     "output_type": "display_data"
    }
   ],
   "source": [
    "random.seed(0)\n",
    "# pybrain uses random; let's fix seed \n",
    "trainer = BackpropTrainer(net, dataset=ds_train) \n",
    "err_train, err_val = trainer.trainUntilConvergence(maxEpochs=MAX_EPOCHS)\n",
    "line_train = plt.plot(err_train, 'b', err_val, 'r')\n",
    "xlab = plt.xlabel('Iterations')\n",
    "ylab = plt.ylabel('Error')"
   ]
  },
  {
   "cell_type": "markdown",
   "metadata": {},
   "source": [
    "Let us calculate the value of the proportion of incorrect answers in the training and control samples."
   ]
  },
  {
   "cell_type": "code",
   "execution_count": 11,
   "metadata": {
    "scrolled": true
   },
   "outputs": [
    {
     "name": "stdout",
     "output_type": "stream",
     "text": [
      "Error on train:  51.29579982126899 %\n",
      "Error on test:  46.666666666666664 %\n"
     ]
    }
   ],
   "source": [
    "res_train = net.activateOnDataset(ds_train).argmax(axis=1) \n",
    "print ('Error on train: ', percentError(res_train, ds_train['target'].argmax(axis=1)), '%') \n",
    "res_test = net.activateOnDataset(ds_test).argmax(axis=1) \n",
    "print ('Error on test: ', percentError(res_test, ds_test['target'].argmax(axis=1)), '%') "
   ]
  },
  {
   "cell_type": "markdown",
   "metadata": {},
   "source": [
    "### Task. Determination of the optimal number of neurons.\n",
    "In the task, it is required to investigate the dependence of the error on the control sample depending on the number of neurons in the hidden layer of the network. The number of neurons for which it is supposed to enumerate is written in the vector\n",
    "```\n",
    "hidden_neurons_num = [50, 100, 200, 500, 700, 1000]\n",
    "```\n"
   ]
  },
  {
   "cell_type": "code",
   "execution_count": 15,
   "metadata": {},
   "outputs": [
    {
     "name": "stdout",
     "output_type": "stream",
     "text": [
      "train:  [47.899910634495086, 44.32529043789098, 43.52100089365505, 39.94638069705094, 42.0017873100983, 41.19749776586238] test [43.125, 41.041666666666664, 42.083333333333336, 37.708333333333336, 35.0, 35.625]\n",
      "min= 35.0 neyrons: = 700\n"
     ]
    },
    {
     "data": {
      "image/png": "[encoded data removed]",
      "text/plain": [
       "<Figure size 432x288 with 1 Axes>"
      ]
     },
     "metadata": {
      "needs_background": "light"
     },
     "output_type": "display_data"
    }
   ],
   "source": [
    "random.seed(0) \n",
    "np.random.seed(0)\n",
    "\n",
    "from pybrain.structure.modules import LinearLayer\n",
    "\n",
    "def plot_classification_error(hidden_neurons_num, res_train_vec, res_test_vec):\n",
    "\n",
    "    plt.figure()\n",
    "    plt.plot(hidden_neurons_num, res_train_vec)\n",
    "    plt.plot(hidden_neurons_num, res_test_vec, '-r')\n",
    "\n",
    "def write_answer_nn(optimal_neurons_num):\n",
    "    with open(\"nnets_answer1.txt\", \"w\") as fout:\n",
    "        fout.write(str(optimal_neurons_num))\n",
    "\n",
    "hidden_neurons_num = [50, 100, 200, 500, 700, 1000]\n",
    "res_train_vec = list()\n",
    "res_test_vec = list()\n",
    "\n",
    "for nnum in hidden_neurons_num:\n",
    "    \n",
    "    net = buildNetwork(ds_train.indim, nnum, ds_train.outdim, outclass=SoftmaxLayer, hiddenclass = LinearLayer)\n",
    "    \n",
    "    init_params = np.random.random((len(net.params))) \n",
    "    net._setParameters(init_params)\n",
    "    trainer = BackpropTrainer(net, dataset=ds_train) \n",
    "    err_train, err_val = trainer.trainUntilConvergence(maxEpochs=MAX_EPOCHS)\n",
    "    \n",
    "    res_train = net.activateOnDataset(ds_train).argmax(axis=1) # result on train\n",
    "    res_train_vec.append(percentError(res_train, ds_train['target'].argmax(axis=1))) # train error\n",
    "    res_test = net.activateOnDataset(ds_test).argmax(axis=1) # result on test\n",
    "    res_test_vec.append(percentError(res_test, ds_test['target'].argmax(axis=1))) # test error\n",
    "    \n",
    "# Plot training and control errors versus number of neurons\n",
    "plot_classification_error(hidden_neurons_num, res_train_vec, res_test_vec)          \n",
    "#  min error calculation and corresponding amount of neurons\n",
    "write_answer_nn(hidden_neurons_num[res_test_vec.index(min(res_test_vec))]) \n",
    "\n",
    "print(\"train: \", res_train_vec, \"test\", res_test_vec)\n",
    "print('min=', min(res_test_vec), 'neyrons: =', hidden_neurons_num[res_test_vec.index(min(res_test_vec))])"
   ]
  }
 ],
 "metadata": {
  "kernelspec": {
   "display_name": "Python 3 (ipykernel)",
   "language": "python",
   "name": "python3"
  },
  "language_info": {
   "codemirror_mode": {
    "name": "ipython",
    "version": 3
   },
   "file_extension": ".py",
   "mimetype": "text/x-python",
   "name": "python",
   "nbconvert_exporter": "python",
   "pygments_lexer": "ipython3",
   "version": "3.9.7"
  }
 },
 "nbformat": 4,
 "nbformat_minor": 1
}
